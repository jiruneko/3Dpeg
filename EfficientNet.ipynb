{
  "nbformat": 4,
  "nbformat_minor": 0,
  "metadata": {
    "colab": {
      "provenance": [],
      "authorship_tag": "ABX9TyOk3TNtD0jCKrSHX+75TlbM",
      "include_colab_link": true
    },
    "kernelspec": {
      "name": "python3",
      "display_name": "Python 3"
    },
    "language_info": {
      "name": "python"
    },
    "accelerator": "GPU",
    "gpuClass": "standard",
    "widgets": {
      "application/vnd.jupyter.widget-state+json": {
        "eb98605929d8489da1ac784604530ef5": {
          "model_module": "@jupyter-widgets/controls",
          "model_name": "HBoxModel",
          "model_module_version": "1.5.0",
          "state": {
            "_dom_classes": [],
            "_model_module": "@jupyter-widgets/controls",
            "_model_module_version": "1.5.0",
            "_model_name": "HBoxModel",
            "_view_count": null,
            "_view_module": "@jupyter-widgets/controls",
            "_view_module_version": "1.5.0",
            "_view_name": "HBoxView",
            "box_style": "",
            "children": [
              "IPY_MODEL_d0e51743ad9b477daf551addaa952233",
              "IPY_MODEL_aaf897ee733240f6a482a5e581f961c5",
              "IPY_MODEL_9c29ce716b8a440e9c5e4cdf8aa89087"
            ],
            "layout": "IPY_MODEL_7f090d47054d45c1b806b23c9f4c5d66"
          }
        },
        "d0e51743ad9b477daf551addaa952233": {
          "model_module": "@jupyter-widgets/controls",
          "model_name": "HTMLModel",
          "model_module_version": "1.5.0",
          "state": {
            "_dom_classes": [],
            "_model_module": "@jupyter-widgets/controls",
            "_model_module_version": "1.5.0",
            "_model_name": "HTMLModel",
            "_view_count": null,
            "_view_module": "@jupyter-widgets/controls",
            "_view_module_version": "1.5.0",
            "_view_name": "HTMLView",
            "description": "",
            "description_tooltip": null,
            "layout": "IPY_MODEL_1ddf30d5d6be40a5a9df256af2f127f3",
            "placeholder": "​",
            "style": "IPY_MODEL_0e546d194a6045b995a4c22a1125bb06",
            "value": "  0%"
          }
        },
        "aaf897ee733240f6a482a5e581f961c5": {
          "model_module": "@jupyter-widgets/controls",
          "model_name": "FloatProgressModel",
          "model_module_version": "1.5.0",
          "state": {
            "_dom_classes": [],
            "_model_module": "@jupyter-widgets/controls",
            "_model_module_version": "1.5.0",
            "_model_name": "FloatProgressModel",
            "_view_count": null,
            "_view_module": "@jupyter-widgets/controls",
            "_view_module_version": "1.5.0",
            "_view_name": "ProgressView",
            "bar_style": "danger",
            "description": "",
            "description_tooltip": null,
            "layout": "IPY_MODEL_28c68bc9ecaa416faa493385ed7efaa0",
            "max": 391,
            "min": 0,
            "orientation": "horizontal",
            "style": "IPY_MODEL_323d105e1e29465ea67e5c738977a437",
            "value": 0
          }
        },
        "9c29ce716b8a440e9c5e4cdf8aa89087": {
          "model_module": "@jupyter-widgets/controls",
          "model_name": "HTMLModel",
          "model_module_version": "1.5.0",
          "state": {
            "_dom_classes": [],
            "_model_module": "@jupyter-widgets/controls",
            "_model_module_version": "1.5.0",
            "_model_name": "HTMLModel",
            "_view_count": null,
            "_view_module": "@jupyter-widgets/controls",
            "_view_module_version": "1.5.0",
            "_view_name": "HTMLView",
            "description": "",
            "description_tooltip": null,
            "layout": "IPY_MODEL_b9b9ffbf541648589c563fb8aa68bd76",
            "placeholder": "​",
            "style": "IPY_MODEL_8df7577df7924cb3b7d8c3ab41bf1efc",
            "value": " 0/391 [00:01&lt;?, ?it/s]"
          }
        },
        "7f090d47054d45c1b806b23c9f4c5d66": {
          "model_module": "@jupyter-widgets/base",
          "model_name": "LayoutModel",
          "model_module_version": "1.2.0",
          "state": {
            "_model_module": "@jupyter-widgets/base",
            "_model_module_version": "1.2.0",
            "_model_name": "LayoutModel",
            "_view_count": null,
            "_view_module": "@jupyter-widgets/base",
            "_view_module_version": "1.2.0",
            "_view_name": "LayoutView",
            "align_content": null,
            "align_items": null,
            "align_self": null,
            "border": null,
            "bottom": null,
            "display": null,
            "flex": null,
            "flex_flow": null,
            "grid_area": null,
            "grid_auto_columns": null,
            "grid_auto_flow": null,
            "grid_auto_rows": null,
            "grid_column": null,
            "grid_gap": null,
            "grid_row": null,
            "grid_template_areas": null,
            "grid_template_columns": null,
            "grid_template_rows": null,
            "height": null,
            "justify_content": null,
            "justify_items": null,
            "left": null,
            "margin": null,
            "max_height": null,
            "max_width": null,
            "min_height": null,
            "min_width": null,
            "object_fit": null,
            "object_position": null,
            "order": null,
            "overflow": null,
            "overflow_x": null,
            "overflow_y": null,
            "padding": null,
            "right": null,
            "top": null,
            "visibility": null,
            "width": null
          }
        },
        "1ddf30d5d6be40a5a9df256af2f127f3": {
          "model_module": "@jupyter-widgets/base",
          "model_name": "LayoutModel",
          "model_module_version": "1.2.0",
          "state": {
            "_model_module": "@jupyter-widgets/base",
            "_model_module_version": "1.2.0",
            "_model_name": "LayoutModel",
            "_view_count": null,
            "_view_module": "@jupyter-widgets/base",
            "_view_module_version": "1.2.0",
            "_view_name": "LayoutView",
            "align_content": null,
            "align_items": null,
            "align_self": null,
            "border": null,
            "bottom": null,
            "display": null,
            "flex": null,
            "flex_flow": null,
            "grid_area": null,
            "grid_auto_columns": null,
            "grid_auto_flow": null,
            "grid_auto_rows": null,
            "grid_column": null,
            "grid_gap": null,
            "grid_row": null,
            "grid_template_areas": null,
            "grid_template_columns": null,
            "grid_template_rows": null,
            "height": null,
            "justify_content": null,
            "justify_items": null,
            "left": null,
            "margin": null,
            "max_height": null,
            "max_width": null,
            "min_height": null,
            "min_width": null,
            "object_fit": null,
            "object_position": null,
            "order": null,
            "overflow": null,
            "overflow_x": null,
            "overflow_y": null,
            "padding": null,
            "right": null,
            "top": null,
            "visibility": null,
            "width": null
          }
        },
        "0e546d194a6045b995a4c22a1125bb06": {
          "model_module": "@jupyter-widgets/controls",
          "model_name": "DescriptionStyleModel",
          "model_module_version": "1.5.0",
          "state": {
            "_model_module": "@jupyter-widgets/controls",
            "_model_module_version": "1.5.0",
            "_model_name": "DescriptionStyleModel",
            "_view_count": null,
            "_view_module": "@jupyter-widgets/base",
            "_view_module_version": "1.2.0",
            "_view_name": "StyleView",
            "description_width": ""
          }
        },
        "28c68bc9ecaa416faa493385ed7efaa0": {
          "model_module": "@jupyter-widgets/base",
          "model_name": "LayoutModel",
          "model_module_version": "1.2.0",
          "state": {
            "_model_module": "@jupyter-widgets/base",
            "_model_module_version": "1.2.0",
            "_model_name": "LayoutModel",
            "_view_count": null,
            "_view_module": "@jupyter-widgets/base",
            "_view_module_version": "1.2.0",
            "_view_name": "LayoutView",
            "align_content": null,
            "align_items": null,
            "align_self": null,
            "border": null,
            "bottom": null,
            "display": null,
            "flex": null,
            "flex_flow": null,
            "grid_area": null,
            "grid_auto_columns": null,
            "grid_auto_flow": null,
            "grid_auto_rows": null,
            "grid_column": null,
            "grid_gap": null,
            "grid_row": null,
            "grid_template_areas": null,
            "grid_template_columns": null,
            "grid_template_rows": null,
            "height": null,
            "justify_content": null,
            "justify_items": null,
            "left": null,
            "margin": null,
            "max_height": null,
            "max_width": null,
            "min_height": null,
            "min_width": null,
            "object_fit": null,
            "object_position": null,
            "order": null,
            "overflow": null,
            "overflow_x": null,
            "overflow_y": null,
            "padding": null,
            "right": null,
            "top": null,
            "visibility": null,
            "width": null
          }
        },
        "323d105e1e29465ea67e5c738977a437": {
          "model_module": "@jupyter-widgets/controls",
          "model_name": "ProgressStyleModel",
          "model_module_version": "1.5.0",
          "state": {
            "_model_module": "@jupyter-widgets/controls",
            "_model_module_version": "1.5.0",
            "_model_name": "ProgressStyleModel",
            "_view_count": null,
            "_view_module": "@jupyter-widgets/base",
            "_view_module_version": "1.2.0",
            "_view_name": "StyleView",
            "bar_color": null,
            "description_width": ""
          }
        },
        "b9b9ffbf541648589c563fb8aa68bd76": {
          "model_module": "@jupyter-widgets/base",
          "model_name": "LayoutModel",
          "model_module_version": "1.2.0",
          "state": {
            "_model_module": "@jupyter-widgets/base",
            "_model_module_version": "1.2.0",
            "_model_name": "LayoutModel",
            "_view_count": null,
            "_view_module": "@jupyter-widgets/base",
            "_view_module_version": "1.2.0",
            "_view_name": "LayoutView",
            "align_content": null,
            "align_items": null,
            "align_self": null,
            "border": null,
            "bottom": null,
            "display": null,
            "flex": null,
            "flex_flow": null,
            "grid_area": null,
            "grid_auto_columns": null,
            "grid_auto_flow": null,
            "grid_auto_rows": null,
            "grid_column": null,
            "grid_gap": null,
            "grid_row": null,
            "grid_template_areas": null,
            "grid_template_columns": null,
            "grid_template_rows": null,
            "height": null,
            "justify_content": null,
            "justify_items": null,
            "left": null,
            "margin": null,
            "max_height": null,
            "max_width": null,
            "min_height": null,
            "min_width": null,
            "object_fit": null,
            "object_position": null,
            "order": null,
            "overflow": null,
            "overflow_x": null,
            "overflow_y": null,
            "padding": null,
            "right": null,
            "top": null,
            "visibility": null,
            "width": null
          }
        },
        "8df7577df7924cb3b7d8c3ab41bf1efc": {
          "model_module": "@jupyter-widgets/controls",
          "model_name": "DescriptionStyleModel",
          "model_module_version": "1.5.0",
          "state": {
            "_model_module": "@jupyter-widgets/controls",
            "_model_module_version": "1.5.0",
            "_model_name": "DescriptionStyleModel",
            "_view_count": null,
            "_view_module": "@jupyter-widgets/base",
            "_view_module_version": "1.2.0",
            "_view_name": "StyleView",
            "description_width": ""
          }
        }
      }
    }
  },
  "cells": [
    {
      "cell_type": "markdown",
      "metadata": {
        "id": "view-in-github",
        "colab_type": "text"
      },
      "source": [
        "<a href=\"https://colab.research.google.com/github/jiruneko/3Dpeg/blob/master/EfficientNet.ipynb\" target=\"_parent\"><img src=\"https://colab.research.google.com/assets/colab-badge.svg\" alt=\"Open In Colab\"/></a>"
      ]
    },
    {
      "cell_type": "code",
      "execution_count": 22,
      "metadata": {
        "id": "GtZJYElO1ahN"
      },
      "outputs": [],
      "source": [
        "import torch\n",
        "import torch.nn as nn\n",
        "import torch.nn.functional as F\n",
        "import torchvision\n",
        "import torchvision.transforms as transforms \n",
        "import tqdm\n",
        "import matplotlib.pyplot as plt"
      ]
    },
    {
      "cell_type": "code",
      "source": [
        "class Swish(nn.Module):\n",
        "  \"\"\"x*sigmoid(x)\"\"\"\n",
        "  def __init__(self):\n",
        "    super().__init__()\n",
        "  def forward(self, x):\n",
        "    return x*torch.sigmoid(x)"
      ],
      "metadata": {
        "id": "L4MBqIAy_p7R"
      },
      "execution_count": 23,
      "outputs": []
    },
    {
      "cell_type": "code",
      "source": [
        "class DWBlock(nn.Module):\n",
        "  # 出力が同じサイズになるようにパディングはk//2 (ただしkは奇数)\n",
        "  def __init__(self, in_c, k, s, p, bias=False):\n",
        "    if p != k//2:\n",
        "      print(\"output may not be the same spatial size as input\")\n",
        "    super().__init__()\n",
        "    self.dw = nn.Conv2d(in_c, in_c, kernel_size=k, stride=s, padding=p, groups=in_c, bias=bias)\n",
        "    self.bn = nn.BatchNorm2d(in_c)\n",
        "    self.act = Swish()\n",
        "\n",
        "  def forward(self, x):\n",
        "    out = self.act(self.bn(self.dw(x)))\n",
        "    return out"
      ],
      "metadata": {
        "id": "qS9fLp2YDw4x"
      },
      "execution_count": 24,
      "outputs": []
    },
    {
      "cell_type": "code",
      "source": [
        "class PWBlock(nn.Module):\n",
        "  def __init__(self, in_c, out_c, bias=False, act=\"swish\"):\n",
        "    super().__init__()\n",
        "    self.dw = nn.Conv2d(in_c, out_c, kernel_size=1, bias=bias)\n",
        "    self.bn = nn.BatchNorm2d(out_c)\n",
        "    if act=='swish':\n",
        "      self.act = Swish()\n",
        "    elif act is None:\n",
        "      self.act = nn.Identity()\n",
        "\n",
        "  def forward(self, x):\n",
        "    out = self.act(self.bn(self.dw(x)))\n",
        "    return out"
      ],
      "metadata": {
        "id": "iboS7nv_cVdC"
      },
      "execution_count": 25,
      "outputs": []
    },
    {
      "cell_type": "code",
      "source": [
        "class SEBlock(nn.Module):\n",
        "  def __init__(self, in_c, h=8):\n",
        "    super().__init__()\n",
        "    # Squeeze\n",
        "    self.gap = nn.AdaptiveAvgPool2d(1) \n",
        "    # Excitation\n",
        "    self.fc1 = nn.Linear(in_c, in_c//h, bias=False) \n",
        "    self.act1 = Swish()\n",
        "    self.fc2 = nn.Linear(in_c//h, in_c, bias=False)\n",
        "    self.act2 = nn.Sigmoid()\n",
        "\n",
        "  def forward(self, x):\n",
        "    out = self.gap(x).squeeze(-1).squeeze(-1)\n",
        "    out = self.act1(self.fc1(out))\n",
        "    out = self.act2(self.fc2(out)).unsqueeze(-1).unsqueeze(-1)\n",
        "    return out*x"
      ],
      "metadata": {
        "id": "nrhUsGr-JvqO"
      },
      "execution_count": 26,
      "outputs": []
    },
    {
      "cell_type": "code",
      "source": [
        "class MBConv(nn.Module):\n",
        "  def __init__(self, in_c, out_c, k=5, s=1, expansion=1):\n",
        "    super().__init__()\n",
        "    self.s = s\n",
        "    self.in_c = in_c\n",
        "    self.out_c = out_c\n",
        "    self.pw1 = PWBlock(in_c, in_c*expansion, bias=False)\n",
        "    self.dw = DWBlock(in_c*expansion, k=k, s=s, p=k//2, bias=False)\n",
        "    self.se = SEBlock(in_c*expansion)\n",
        "    self.pw2 = PWBlock(in_c*expansion, out_c, bias=False, act=None)\n",
        "\n",
        "  def forward(self, x):\n",
        "    out = self.pw2(self.se(self.dw(self.pw1(x))))\n",
        "    if self.s == 1 and self.in_c==self.out_c:\n",
        "      out = out+x\n",
        "    return out"
      ],
      "metadata": {
        "id": "0IxfTH8BVIQn"
      },
      "execution_count": 27,
      "outputs": []
    },
    {
      "cell_type": "code",
      "source": [
        "class EfficientNetB0(nn.Module):\n",
        "  def __init__(self, n_c=3, n_classes=10):\n",
        "    super().__init__()\n",
        "    self.first = nn.Sequential(\n",
        "        nn.Conv2d(n_c,32,3,1,1,bias=False),\n",
        "        nn.BatchNorm2d(32),\n",
        "        Swish()\n",
        "    )\n",
        "    self.mb1 = MBConv(32, 16, 3, expansion=1)\n",
        "    self.mb6_1 = nn.Sequential(\n",
        "        MBConv(16, 24, k=3, s=1, expansion=6),\n",
        "        MBConv(24, 24, k=3, s=1, expansion=6)\n",
        "    )\n",
        "    self.mb6_2 = nn.Sequential(\n",
        "        MBConv(24, 40, k=5, s=1, expansion=6),\n",
        "        MBConv(40, 40, k=5, s=1, expansion=6)\n",
        "    )\n",
        "    #画像サイズ:32->16\n",
        "    self.mb6_3 = nn.Sequential(\n",
        "        MBConv(40, 80, k=3, s=2, expansion=6),\n",
        "        MBConv(80, 80, k=3, s=1, expansion=6),\n",
        "        MBConv(80, 80, k=3, s=1, expansion=6),\n",
        "    )\n",
        "    self.mb6_4 = nn.Sequential(\n",
        "        MBConv(80, 112, k=5, s=1, expansion=6),\n",
        "        MBConv(112, 112, k=5, s=1, expansion=6),\n",
        "        MBConv(112, 112, k=5, s=1, expansion=6),\n",
        "    )\n",
        "    #画像サイズ: 16->8\n",
        "    self.mb6_5 = nn.Sequential(\n",
        "        MBConv(112, 192, k=5, s=2, expansion=6),\n",
        "        MBConv(192, 192, k=5, s=1, expansion=6),\n",
        "        MBConv(192, 192, k=5, s=1, expansion=6),\n",
        "        MBConv(192, 192, k=5, s=1, expansion=6),\n",
        "    )\n",
        "\n",
        "    self.mb6_6 = nn.Sequential(\n",
        "        MBConv(192, 320, k=3, s=1, expansion=6),\n",
        "    )\n",
        "    self.pw = PWBlock(320, 1280)\n",
        "    self.gap = nn.AdaptiveAvgPool2d(1)\n",
        "    self.dropout = nn.Dropout(0.2)\n",
        "    self.fc = nn.Linear(1280, n_classes)\n",
        "\n",
        "  def forward(self, x):\n",
        "    out = self.first(x)\n",
        "    out = self.mb1(out)\n",
        "    out = self.mb6_1(out)\n",
        "    out = self.mb6_2(out)\n",
        "    out = self.mb6_3(out)\n",
        "    out = self.mb6_4(out)\n",
        "    out = self.mb6_5(out)\n",
        "    out = self.mb6_6(out)\n",
        "    out = self.pw(out)\n",
        "    out = self.gap(out).view(x.size(0), -1)\n",
        "    out = self.dropout(out)\n",
        "    out = self.fc(out)\n",
        "    return out"
      ],
      "metadata": {
        "id": "va_T80HZcbA3"
      },
      "execution_count": 28,
      "outputs": []
    },
    {
      "cell_type": "code",
      "source": [
        "train_transform = transforms.Compose([\n",
        "                                    transforms.RandomCrop(size=32, padding=4),\n",
        "                                    transforms.RandomHorizontalFlip(p=0.5),\n",
        "                                    transforms.ToTensor(),\n",
        "                                    transforms.Normalize(mean=[0.4914, 0.4822, 0.4465], std=[0.2470, 0.2435, 0.2616])\n",
        "])\n",
        "train_ds = torchvision.datasets.CIFAR10('.', train=True, transform=train_transform, download=True)\n",
        "train_dl = torch.utils.data.DataLoader(train_ds, batch_size=128, num_workers=4, pin_memory=True)"
      ],
      "metadata": {
        "colab": {
          "base_uri": "https://localhost:8080/"
        },
        "id": "Trx1yjjkcqi_",
        "outputId": "8e2e097b-9dbf-4381-c22b-983eaf64c031"
      },
      "execution_count": 29,
      "outputs": [
        {
          "output_type": "stream",
          "name": "stdout",
          "text": [
            "Files already downloaded and verified\n"
          ]
        }
      ]
    },
    {
      "cell_type": "code",
      "source": [
        "test_transform = transforms.Compose([\n",
        "                                    transforms.ToTensor(),\n",
        "                                    transforms.Normalize(mean=[0.4914, 0.4822, 0.4465], std=[0.2470, 0.2435, 0.2616])\n",
        "])\n",
        "test_ds = torchvision.datasets.CIFAR10('.', train=False, transform=test_transform, download=True)\n",
        "test_dl = torch.utils.data.DataLoader(test_ds, batch_size=1024, num_workers=4, pin_memory=True)"
      ],
      "metadata": {
        "colab": {
          "base_uri": "https://localhost:8080/"
        },
        "id": "U8tw4lbPfRqO",
        "outputId": "921db443-930e-428d-a2ad-69f8e053c273"
      },
      "execution_count": 30,
      "outputs": [
        {
          "output_type": "stream",
          "name": "stdout",
          "text": [
            "Files already downloaded and verified\n"
          ]
        }
      ]
    },
    {
      "cell_type": "code",
      "source": [
        "net = EfficientNetB0(n_c=3, n_classes=10)"
      ],
      "metadata": {
        "id": "5AhKwSFVg93E"
      },
      "execution_count": 31,
      "outputs": []
    },
    {
      "cell_type": "code",
      "source": [
        "criterion = nn.CrossEntropyLoss()"
      ],
      "metadata": {
        "id": "WY0osmyjh3Hh"
      },
      "execution_count": 32,
      "outputs": []
    },
    {
      "cell_type": "code",
      "source": [
        "optimizer = torch.optim.SGD(net.parameters(), lr=0.1, momentum=0.9, weight_decay=1e-4)\n",
        "scheduler = torch.optim.lr_scheduler.MultiStepLR(optimizer, milestones=[25, 40], gamma=0.1)"
      ],
      "metadata": {
        "id": "92fuDDdCjICz"
      },
      "execution_count": 33,
      "outputs": []
    },
    {
      "cell_type": "code",
      "source": [
        "history = {'loss':[], 'acc':[], 'val_loss':[], 'val_acc':[]}\n",
        "epochs = 50\n",
        "device ='cuda:0' if torch.cuda.is_available() else 'cpu'\n",
        "net = net.to(device)\n",
        "for epoch in range(epochs):\n",
        "    net.train()\n",
        "    epoch_acc, epoch_loss = 0., 0.\n",
        "    num_imgs = 0.\n",
        "    for img, label in tqdm.auto.tqdm(train_dl):\n",
        "        img, label = img.to(device), label.to(device)\n",
        "        optimizer.zero_grad()\n",
        "        output = net(img)\n",
        "        loss = criterion(output, label)\n",
        "        loss.backward()\n",
        "        optimizer.step()\n",
        "\n",
        "        epoch_loss += loss.data\n",
        "        epoch_acc += sum(label == output.argmax(0))\n",
        "        num_imgs += img.size(0)*1.0 # floatにするため1.0を掛けている。\n",
        "\n",
        "    scheduler.step()\n",
        "    epoch_loss /= num_imgs\n",
        "    epoch_acc /= num_imgs\n",
        "    history['loss'].append(epoch_loss)\n",
        "    history['acc'].append(epoch_acc)    \n",
        "    print(f'Epoch: {epoch}, loss:{epoch_loss}, acc:{epoch_acc}')"
      ],
      "metadata": {
        "colab": {
          "base_uri": "https://localhost:8080/",
          "height": 281,
          "referenced_widgets": [
            "eb98605929d8489da1ac784604530ef5",
            "d0e51743ad9b477daf551addaa952233",
            "aaf897ee733240f6a482a5e581f961c5",
            "9c29ce716b8a440e9c5e4cdf8aa89087",
            "7f090d47054d45c1b806b23c9f4c5d66",
            "1ddf30d5d6be40a5a9df256af2f127f3",
            "0e546d194a6045b995a4c22a1125bb06",
            "28c68bc9ecaa416faa493385ed7efaa0",
            "323d105e1e29465ea67e5c738977a437",
            "b9b9ffbf541648589c563fb8aa68bd76",
            "8df7577df7924cb3b7d8c3ab41bf1efc"
          ]
        },
        "id": "CjAizwfykM6z",
        "outputId": "8a40ebcb-2666-4cd6-813d-c7f6206aa9bd"
      },
      "execution_count": 34,
      "outputs": [
        {
          "output_type": "display_data",
          "data": {
            "text/plain": [
              "  0%|          | 0/391 [00:00<?, ?it/s]"
            ],
            "application/vnd.jupyter.widget-view+json": {
              "version_major": 2,
              "version_minor": 0,
              "model_id": "eb98605929d8489da1ac784604530ef5"
            }
          },
          "metadata": {}
        },
        {
          "output_type": "error",
          "ename": "RuntimeError",
          "evalue": "ignored",
          "traceback": [
            "\u001b[0;31m---------------------------------------------------------------------------\u001b[0m",
            "\u001b[0;31mRuntimeError\u001b[0m                              Traceback (most recent call last)",
            "\u001b[0;32m<ipython-input-34-a7008967bd42>\u001b[0m in \u001b[0;36m<module>\u001b[0;34m\u001b[0m\n\u001b[1;32m     16\u001b[0m \u001b[0;34m\u001b[0m\u001b[0m\n\u001b[1;32m     17\u001b[0m         \u001b[0mepoch_loss\u001b[0m \u001b[0;34m+=\u001b[0m \u001b[0mloss\u001b[0m\u001b[0;34m.\u001b[0m\u001b[0mdata\u001b[0m\u001b[0;34m\u001b[0m\u001b[0;34m\u001b[0m\u001b[0m\n\u001b[0;32m---> 18\u001b[0;31m         \u001b[0mepoch_acc\u001b[0m \u001b[0;34m+=\u001b[0m \u001b[0msum\u001b[0m\u001b[0;34m(\u001b[0m\u001b[0mlabel\u001b[0m \u001b[0;34m==\u001b[0m \u001b[0moutput\u001b[0m\u001b[0;34m.\u001b[0m\u001b[0margmax\u001b[0m\u001b[0;34m(\u001b[0m\u001b[0;36m0\u001b[0m\u001b[0;34m)\u001b[0m\u001b[0;34m)\u001b[0m\u001b[0;34m\u001b[0m\u001b[0;34m\u001b[0m\u001b[0m\n\u001b[0m\u001b[1;32m     19\u001b[0m         \u001b[0mnum_imgs\u001b[0m \u001b[0;34m+=\u001b[0m \u001b[0mimg\u001b[0m\u001b[0;34m.\u001b[0m\u001b[0msize\u001b[0m\u001b[0;34m(\u001b[0m\u001b[0;36m0\u001b[0m\u001b[0;34m)\u001b[0m\u001b[0;34m*\u001b[0m\u001b[0;36m1.0\u001b[0m \u001b[0;31m# floatにするため1.0を掛けている。\u001b[0m\u001b[0;34m\u001b[0m\u001b[0;34m\u001b[0m\u001b[0m\n\u001b[1;32m     20\u001b[0m \u001b[0;34m\u001b[0m\u001b[0m\n",
            "\u001b[0;31mRuntimeError\u001b[0m: The size of tensor a (128) must match the size of tensor b (10) at non-singleton dimension 0"
          ]
        }
      ]
    },
    {
      "cell_type": "code",
      "source": [],
      "metadata": {
        "id": "cu6yKpAAk860"
      },
      "execution_count": null,
      "outputs": []
    }
  ]
}